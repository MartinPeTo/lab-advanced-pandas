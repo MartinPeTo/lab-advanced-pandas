{
 "cells": [
  {
   "cell_type": "markdown",
   "metadata": {
    "toc": true
   },
   "source": [
    "<h1>Table of Contents<span class=\"tocSkip\"></span></h1>\n",
    "<div class=\"toc\"><ul class=\"toc-item\"><li><span><a href=\"#Before-your-start:\" data-toc-modified-id=\"Before-your-start:-1\"><span class=\"toc-item-num\">1&nbsp;&nbsp;</span>Before your start:</a></span></li><li><span><a href=\"#Challenge-1---Index-Functions\" data-toc-modified-id=\"Challenge-1---Index-Functions-2\"><span class=\"toc-item-num\">2&nbsp;&nbsp;</span>Challenge 1 - Index Functions</a></span></li><li><span><a href=\"#Challenge-2---Advanced-Functions\" data-toc-modified-id=\"Challenge-2---Advanced-Functions-3\"><span class=\"toc-item-num\">3&nbsp;&nbsp;</span>Challenge 2 - Advanced Functions</a></span></li><li><span><a href=\"#Challenge-3---Method-Chaining\" data-toc-modified-id=\"Challenge-3---Method-Chaining-4\"><span class=\"toc-item-num\">4&nbsp;&nbsp;</span>Challenge 3 - Method Chaining</a></span></li></ul></div>"
   ]
  },
  {
   "cell_type": "markdown",
   "metadata": {},
   "source": [
    "# Before your start:\n",
    "- Read the README.md file\n",
    "- Comment as much as you can and use the resources (README.md file)\n",
    "- Happy learning!"
   ]
  },
  {
   "cell_type": "code",
   "execution_count": 2,
   "metadata": {},
   "outputs": [],
   "source": [
    "# import numpy and pandas\n",
    "import numpy as np\n",
    "import pandas as pd\n"
   ]
  },
  {
   "cell_type": "markdown",
   "metadata": {},
   "source": [
    "# Challenge 1 - Index Functions\n",
    "\n",
    "In this challenge, we will practice the advanced functions introduced in the lesson. However, before we start, we will load and evaluate our dataset."
   ]
  },
  {
   "cell_type": "code",
   "execution_count": 3,
   "metadata": {},
   "outputs": [],
   "source": [
    "# Run this code:\n",
    "\n",
    "admissions = pd.read_csv('../Admission_Predict.csv')\n",
    "#to remove trailing spaces at the end of the column names\n",
    "admissions.columns = admissions.columns.str.rstrip()"
   ]
  },
  {
   "cell_type": "markdown",
   "metadata": {},
   "source": [
    "Let's evaluate the dataset by looking at the `head` function."
   ]
  },
  {
   "cell_type": "code",
   "execution_count": 4,
   "metadata": {},
   "outputs": [
    {
     "data": {
      "text/html": [
       "<div>\n",
       "<style scoped>\n",
       "    .dataframe tbody tr th:only-of-type {\n",
       "        vertical-align: middle;\n",
       "    }\n",
       "\n",
       "    .dataframe tbody tr th {\n",
       "        vertical-align: top;\n",
       "    }\n",
       "\n",
       "    .dataframe thead th {\n",
       "        text-align: right;\n",
       "    }\n",
       "</style>\n",
       "<table border=\"1\" class=\"dataframe\">\n",
       "  <thead>\n",
       "    <tr style=\"text-align: right;\">\n",
       "      <th></th>\n",
       "      <th>Serial No.</th>\n",
       "      <th>GRE Score</th>\n",
       "      <th>TOEFL Score</th>\n",
       "      <th>University Rating</th>\n",
       "      <th>SOP</th>\n",
       "      <th>LOR</th>\n",
       "      <th>CGPA</th>\n",
       "      <th>Research</th>\n",
       "      <th>Chance of Admit</th>\n",
       "    </tr>\n",
       "  </thead>\n",
       "  <tbody>\n",
       "    <tr>\n",
       "      <th>0</th>\n",
       "      <td>1</td>\n",
       "      <td>337</td>\n",
       "      <td>118</td>\n",
       "      <td>4</td>\n",
       "      <td>4.5</td>\n",
       "      <td>4.5</td>\n",
       "      <td>9.65</td>\n",
       "      <td>1</td>\n",
       "      <td>0.92</td>\n",
       "    </tr>\n",
       "    <tr>\n",
       "      <th>1</th>\n",
       "      <td>2</td>\n",
       "      <td>316</td>\n",
       "      <td>104</td>\n",
       "      <td>3</td>\n",
       "      <td>3.0</td>\n",
       "      <td>3.5</td>\n",
       "      <td>8.00</td>\n",
       "      <td>1</td>\n",
       "      <td>0.72</td>\n",
       "    </tr>\n",
       "    <tr>\n",
       "      <th>2</th>\n",
       "      <td>3</td>\n",
       "      <td>322</td>\n",
       "      <td>110</td>\n",
       "      <td>3</td>\n",
       "      <td>3.5</td>\n",
       "      <td>2.5</td>\n",
       "      <td>8.67</td>\n",
       "      <td>1</td>\n",
       "      <td>0.80</td>\n",
       "    </tr>\n",
       "    <tr>\n",
       "      <th>3</th>\n",
       "      <td>4</td>\n",
       "      <td>314</td>\n",
       "      <td>103</td>\n",
       "      <td>2</td>\n",
       "      <td>2.0</td>\n",
       "      <td>3.0</td>\n",
       "      <td>8.21</td>\n",
       "      <td>0</td>\n",
       "      <td>0.65</td>\n",
       "    </tr>\n",
       "    <tr>\n",
       "      <th>4</th>\n",
       "      <td>5</td>\n",
       "      <td>330</td>\n",
       "      <td>115</td>\n",
       "      <td>5</td>\n",
       "      <td>4.5</td>\n",
       "      <td>3.0</td>\n",
       "      <td>9.34</td>\n",
       "      <td>1</td>\n",
       "      <td>0.90</td>\n",
       "    </tr>\n",
       "  </tbody>\n",
       "</table>\n",
       "</div>"
      ],
      "text/plain": [
       "   Serial No.  GRE Score  TOEFL Score  University Rating  SOP  LOR  CGPA  \\\n",
       "0           1        337          118                  4  4.5  4.5  9.65   \n",
       "1           2        316          104                  3  3.0  3.5  8.00   \n",
       "2           3        322          110                  3  3.5  2.5  8.67   \n",
       "3           4        314          103                  2  2.0  3.0  8.21   \n",
       "4           5        330          115                  5  4.5  3.0  9.34   \n",
       "\n",
       "   Research  Chance of Admit  \n",
       "0         1             0.92  \n",
       "1         1             0.72  \n",
       "2         1             0.80  \n",
       "3         0             0.65  \n",
       "4         1             0.90  "
      ]
     },
     "execution_count": 4,
     "metadata": {},
     "output_type": "execute_result"
    }
   ],
   "source": [
    "# Your code here:\n",
    "admissions.head()\n"
   ]
  },
  {
   "cell_type": "markdown",
   "metadata": {},
   "source": [
    "Before beginning to work with this dataset and evaluating graduate admissions data, we will verify that there is no missing data in the dataset. Do this in the cell below."
   ]
  },
  {
   "cell_type": "code",
   "execution_count": 5,
   "metadata": {},
   "outputs": [
    {
     "data": {
      "text/plain": [
       "Serial No.           0\n",
       "GRE Score            0\n",
       "TOEFL Score          0\n",
       "University Rating    0\n",
       "SOP                  0\n",
       "LOR                  0\n",
       "CGPA                 0\n",
       "Research             0\n",
       "Chance of Admit      0\n",
       "dtype: int64"
      ]
     },
     "execution_count": 5,
     "metadata": {},
     "output_type": "execute_result"
    }
   ],
   "source": [
    "# Your code here:\n",
    "admissions.isnull().sum()\n"
   ]
  },
  {
   "cell_type": "markdown",
   "metadata": {},
   "source": [
    "Interestingly, there is a column that uniquely identifies the applicants. This column is the serial number column. Instead of having our own index, we should make this column our index. Do this in the cell below. Keep the column in the dataframe in addition to making it an index."
   ]
  },
  {
   "cell_type": "code",
   "execution_count": 6,
   "metadata": {},
   "outputs": [
    {
     "data": {
      "text/html": [
       "<div>\n",
       "<style scoped>\n",
       "    .dataframe tbody tr th:only-of-type {\n",
       "        vertical-align: middle;\n",
       "    }\n",
       "\n",
       "    .dataframe tbody tr th {\n",
       "        vertical-align: top;\n",
       "    }\n",
       "\n",
       "    .dataframe thead th {\n",
       "        text-align: right;\n",
       "    }\n",
       "</style>\n",
       "<table border=\"1\" class=\"dataframe\">\n",
       "  <thead>\n",
       "    <tr style=\"text-align: right;\">\n",
       "      <th></th>\n",
       "      <th>Serial No.</th>\n",
       "      <th>GRE Score</th>\n",
       "      <th>TOEFL Score</th>\n",
       "      <th>University Rating</th>\n",
       "      <th>SOP</th>\n",
       "      <th>LOR</th>\n",
       "      <th>CGPA</th>\n",
       "      <th>Research</th>\n",
       "      <th>Chance of Admit</th>\n",
       "    </tr>\n",
       "    <tr>\n",
       "      <th>Serial No.</th>\n",
       "      <th></th>\n",
       "      <th></th>\n",
       "      <th></th>\n",
       "      <th></th>\n",
       "      <th></th>\n",
       "      <th></th>\n",
       "      <th></th>\n",
       "      <th></th>\n",
       "      <th></th>\n",
       "    </tr>\n",
       "  </thead>\n",
       "  <tbody>\n",
       "    <tr>\n",
       "      <th>1</th>\n",
       "      <td>1</td>\n",
       "      <td>337</td>\n",
       "      <td>118</td>\n",
       "      <td>4</td>\n",
       "      <td>4.5</td>\n",
       "      <td>4.5</td>\n",
       "      <td>9.65</td>\n",
       "      <td>1</td>\n",
       "      <td>0.92</td>\n",
       "    </tr>\n",
       "    <tr>\n",
       "      <th>2</th>\n",
       "      <td>2</td>\n",
       "      <td>316</td>\n",
       "      <td>104</td>\n",
       "      <td>3</td>\n",
       "      <td>3.0</td>\n",
       "      <td>3.5</td>\n",
       "      <td>8.00</td>\n",
       "      <td>1</td>\n",
       "      <td>0.72</td>\n",
       "    </tr>\n",
       "    <tr>\n",
       "      <th>3</th>\n",
       "      <td>3</td>\n",
       "      <td>322</td>\n",
       "      <td>110</td>\n",
       "      <td>3</td>\n",
       "      <td>3.5</td>\n",
       "      <td>2.5</td>\n",
       "      <td>8.67</td>\n",
       "      <td>1</td>\n",
       "      <td>0.80</td>\n",
       "    </tr>\n",
       "    <tr>\n",
       "      <th>4</th>\n",
       "      <td>4</td>\n",
       "      <td>314</td>\n",
       "      <td>103</td>\n",
       "      <td>2</td>\n",
       "      <td>2.0</td>\n",
       "      <td>3.0</td>\n",
       "      <td>8.21</td>\n",
       "      <td>0</td>\n",
       "      <td>0.65</td>\n",
       "    </tr>\n",
       "    <tr>\n",
       "      <th>5</th>\n",
       "      <td>5</td>\n",
       "      <td>330</td>\n",
       "      <td>115</td>\n",
       "      <td>5</td>\n",
       "      <td>4.5</td>\n",
       "      <td>3.0</td>\n",
       "      <td>9.34</td>\n",
       "      <td>1</td>\n",
       "      <td>0.90</td>\n",
       "    </tr>\n",
       "  </tbody>\n",
       "</table>\n",
       "</div>"
      ],
      "text/plain": [
       "            Serial No.  GRE Score  TOEFL Score  University Rating  SOP  LOR  \\\n",
       "Serial No.                                                                    \n",
       "1                    1        337          118                  4  4.5  4.5   \n",
       "2                    2        316          104                  3  3.0  3.5   \n",
       "3                    3        322          110                  3  3.5  2.5   \n",
       "4                    4        314          103                  2  2.0  3.0   \n",
       "5                    5        330          115                  5  4.5  3.0   \n",
       "\n",
       "            CGPA  Research  Chance of Admit  \n",
       "Serial No.                                   \n",
       "1           9.65         1             0.92  \n",
       "2           8.00         1             0.72  \n",
       "3           8.67         1             0.80  \n",
       "4           8.21         0             0.65  \n",
       "5           9.34         1             0.90  "
      ]
     },
     "execution_count": 6,
     "metadata": {},
     "output_type": "execute_result"
    }
   ],
   "source": [
    "# Your code here:\n",
    "admissions.index = admissions['Serial No.']\n",
    "\n",
    "admissions.head()"
   ]
  },
  {
   "cell_type": "markdown",
   "metadata": {},
   "source": [
    "Turns out that `GRE Score` and `CGPA` also uniquely identify the data. Show this in the cell below."
   ]
  },
  {
   "cell_type": "code",
   "execution_count": 7,
   "metadata": {},
   "outputs": [
    {
     "data": {
      "text/html": [
       "<div>\n",
       "<style scoped>\n",
       "    .dataframe tbody tr th:only-of-type {\n",
       "        vertical-align: middle;\n",
       "    }\n",
       "\n",
       "    .dataframe tbody tr th {\n",
       "        vertical-align: top;\n",
       "    }\n",
       "\n",
       "    .dataframe thead th {\n",
       "        text-align: right;\n",
       "    }\n",
       "</style>\n",
       "<table border=\"1\" class=\"dataframe\">\n",
       "  <thead>\n",
       "    <tr style=\"text-align: right;\">\n",
       "      <th></th>\n",
       "      <th></th>\n",
       "      <th>Serial No.</th>\n",
       "      <th>TOEFL Score</th>\n",
       "      <th>University Rating</th>\n",
       "      <th>SOP</th>\n",
       "      <th>LOR</th>\n",
       "      <th>Research</th>\n",
       "      <th>Chance of Admit</th>\n",
       "    </tr>\n",
       "    <tr>\n",
       "      <th>GRE Score</th>\n",
       "      <th>CGPA</th>\n",
       "      <th></th>\n",
       "      <th></th>\n",
       "      <th></th>\n",
       "      <th></th>\n",
       "      <th></th>\n",
       "      <th></th>\n",
       "      <th></th>\n",
       "    </tr>\n",
       "  </thead>\n",
       "  <tbody>\n",
       "    <tr>\n",
       "      <th>337</th>\n",
       "      <th>9.65</th>\n",
       "      <td>1</td>\n",
       "      <td>118</td>\n",
       "      <td>4</td>\n",
       "      <td>4.5</td>\n",
       "      <td>4.5</td>\n",
       "      <td>1</td>\n",
       "      <td>0.92</td>\n",
       "    </tr>\n",
       "    <tr>\n",
       "      <th>316</th>\n",
       "      <th>8.00</th>\n",
       "      <td>2</td>\n",
       "      <td>104</td>\n",
       "      <td>3</td>\n",
       "      <td>3.0</td>\n",
       "      <td>3.5</td>\n",
       "      <td>1</td>\n",
       "      <td>0.72</td>\n",
       "    </tr>\n",
       "    <tr>\n",
       "      <th>322</th>\n",
       "      <th>8.67</th>\n",
       "      <td>3</td>\n",
       "      <td>110</td>\n",
       "      <td>3</td>\n",
       "      <td>3.5</td>\n",
       "      <td>2.5</td>\n",
       "      <td>1</td>\n",
       "      <td>0.80</td>\n",
       "    </tr>\n",
       "    <tr>\n",
       "      <th>314</th>\n",
       "      <th>8.21</th>\n",
       "      <td>4</td>\n",
       "      <td>103</td>\n",
       "      <td>2</td>\n",
       "      <td>2.0</td>\n",
       "      <td>3.0</td>\n",
       "      <td>0</td>\n",
       "      <td>0.65</td>\n",
       "    </tr>\n",
       "    <tr>\n",
       "      <th>330</th>\n",
       "      <th>9.34</th>\n",
       "      <td>5</td>\n",
       "      <td>115</td>\n",
       "      <td>5</td>\n",
       "      <td>4.5</td>\n",
       "      <td>3.0</td>\n",
       "      <td>1</td>\n",
       "      <td>0.90</td>\n",
       "    </tr>\n",
       "  </tbody>\n",
       "</table>\n",
       "</div>"
      ],
      "text/plain": [
       "                Serial No.  TOEFL Score  University Rating  SOP  LOR  \\\n",
       "GRE Score CGPA                                                         \n",
       "337       9.65           1          118                  4  4.5  4.5   \n",
       "316       8.00           2          104                  3  3.0  3.5   \n",
       "322       8.67           3          110                  3  3.5  2.5   \n",
       "314       8.21           4          103                  2  2.0  3.0   \n",
       "330       9.34           5          115                  5  4.5  3.0   \n",
       "\n",
       "                Research  Chance of Admit  \n",
       "GRE Score CGPA                             \n",
       "337       9.65         1             0.92  \n",
       "316       8.00         1             0.72  \n",
       "322       8.67         1             0.80  \n",
       "314       8.21         0             0.65  \n",
       "330       9.34         1             0.90  "
      ]
     },
     "execution_count": 7,
     "metadata": {},
     "output_type": "execute_result"
    }
   ],
   "source": [
    "# Your code here:\n",
    "\n",
    "admissions.set_index(['GRE Score','CGPA'], inplace = True)\n",
    "admissions.head()"
   ]
  },
  {
   "cell_type": "markdown",
   "metadata": {},
   "source": [
    "Replace the index with an index comprised of two columns - `GRE Score` and `CGPA`. Remove the columns from the dataset as well. Make sure to use `inplace=True`."
   ]
  },
  {
   "cell_type": "markdown",
   "metadata": {},
   "source": [
    "Now change the index back to a sequence starting at zero using the `reset_index` function. Make sure to use `inplace=True`."
   ]
  },
  {
   "cell_type": "code",
   "execution_count": 8,
   "metadata": {},
   "outputs": [
    {
     "data": {
      "text/html": [
       "<div>\n",
       "<style scoped>\n",
       "    .dataframe tbody tr th:only-of-type {\n",
       "        vertical-align: middle;\n",
       "    }\n",
       "\n",
       "    .dataframe tbody tr th {\n",
       "        vertical-align: top;\n",
       "    }\n",
       "\n",
       "    .dataframe thead th {\n",
       "        text-align: right;\n",
       "    }\n",
       "</style>\n",
       "<table border=\"1\" class=\"dataframe\">\n",
       "  <thead>\n",
       "    <tr style=\"text-align: right;\">\n",
       "      <th></th>\n",
       "      <th>GRE Score</th>\n",
       "      <th>CGPA</th>\n",
       "      <th>Serial No.</th>\n",
       "      <th>TOEFL Score</th>\n",
       "      <th>University Rating</th>\n",
       "      <th>SOP</th>\n",
       "      <th>LOR</th>\n",
       "      <th>Research</th>\n",
       "      <th>Chance of Admit</th>\n",
       "    </tr>\n",
       "  </thead>\n",
       "  <tbody>\n",
       "    <tr>\n",
       "      <th>0</th>\n",
       "      <td>337</td>\n",
       "      <td>9.65</td>\n",
       "      <td>1</td>\n",
       "      <td>118</td>\n",
       "      <td>4</td>\n",
       "      <td>4.5</td>\n",
       "      <td>4.5</td>\n",
       "      <td>1</td>\n",
       "      <td>0.92</td>\n",
       "    </tr>\n",
       "    <tr>\n",
       "      <th>1</th>\n",
       "      <td>316</td>\n",
       "      <td>8.00</td>\n",
       "      <td>2</td>\n",
       "      <td>104</td>\n",
       "      <td>3</td>\n",
       "      <td>3.0</td>\n",
       "      <td>3.5</td>\n",
       "      <td>1</td>\n",
       "      <td>0.72</td>\n",
       "    </tr>\n",
       "    <tr>\n",
       "      <th>2</th>\n",
       "      <td>322</td>\n",
       "      <td>8.67</td>\n",
       "      <td>3</td>\n",
       "      <td>110</td>\n",
       "      <td>3</td>\n",
       "      <td>3.5</td>\n",
       "      <td>2.5</td>\n",
       "      <td>1</td>\n",
       "      <td>0.80</td>\n",
       "    </tr>\n",
       "    <tr>\n",
       "      <th>3</th>\n",
       "      <td>314</td>\n",
       "      <td>8.21</td>\n",
       "      <td>4</td>\n",
       "      <td>103</td>\n",
       "      <td>2</td>\n",
       "      <td>2.0</td>\n",
       "      <td>3.0</td>\n",
       "      <td>0</td>\n",
       "      <td>0.65</td>\n",
       "    </tr>\n",
       "    <tr>\n",
       "      <th>4</th>\n",
       "      <td>330</td>\n",
       "      <td>9.34</td>\n",
       "      <td>5</td>\n",
       "      <td>115</td>\n",
       "      <td>5</td>\n",
       "      <td>4.5</td>\n",
       "      <td>3.0</td>\n",
       "      <td>1</td>\n",
       "      <td>0.90</td>\n",
       "    </tr>\n",
       "  </tbody>\n",
       "</table>\n",
       "</div>"
      ],
      "text/plain": [
       "   GRE Score  CGPA  Serial No.  TOEFL Score  University Rating  SOP  LOR  \\\n",
       "0        337  9.65           1          118                  4  4.5  4.5   \n",
       "1        316  8.00           2          104                  3  3.0  3.5   \n",
       "2        322  8.67           3          110                  3  3.5  2.5   \n",
       "3        314  8.21           4          103                  2  2.0  3.0   \n",
       "4        330  9.34           5          115                  5  4.5  3.0   \n",
       "\n",
       "   Research  Chance of Admit  \n",
       "0         1             0.92  \n",
       "1         1             0.72  \n",
       "2         1             0.80  \n",
       "3         0             0.65  \n",
       "4         1             0.90  "
      ]
     },
     "execution_count": 8,
     "metadata": {},
     "output_type": "execute_result"
    }
   ],
   "source": [
    "# Your code here:\n",
    "admissions.reset_index(inplace=True)\n",
    "admissions.head()"
   ]
  },
  {
   "cell_type": "markdown",
   "metadata": {},
   "source": [
    "# Challenge 2 - Advanced Functions\n",
    "\n",
    "In this part of the lab, we would like to test complex conditions on the entire dataset at once. Let's start by finding the number of rows where the CGPA is higher than 9 and the student has conducted research."
   ]
  },
  {
   "cell_type": "code",
   "execution_count": 9,
   "metadata": {},
   "outputs": [
    {
     "data": {
      "text/plain": [
       "101"
      ]
     },
     "execution_count": 9,
     "metadata": {},
     "output_type": "execute_result"
    }
   ],
   "source": [
    "# Your code here:\n",
    "\n",
    "#admissions[admissions.CGPA>9][admissions.Research == 1].count()['CGPA']\n",
    "admissions.get((admissions.CGPA>9) & (admissions.Research == 1)).count()['CGPA']"
   ]
  },
  {
   "cell_type": "markdown",
   "metadata": {},
   "source": [
    "Now return all the rows where the CGPA is greater than 9 and the SOP score is less than 3.5. Find the mean chance of admit for these applicants."
   ]
  },
  {
   "cell_type": "code",
   "execution_count": 10,
   "metadata": {
    "scrolled": true
   },
   "outputs": [
    {
     "data": {
      "text/html": [
       "<div>\n",
       "<style scoped>\n",
       "    .dataframe tbody tr th:only-of-type {\n",
       "        vertical-align: middle;\n",
       "    }\n",
       "\n",
       "    .dataframe tbody tr th {\n",
       "        vertical-align: top;\n",
       "    }\n",
       "\n",
       "    .dataframe thead th {\n",
       "        text-align: right;\n",
       "    }\n",
       "</style>\n",
       "<table border=\"1\" class=\"dataframe\">\n",
       "  <thead>\n",
       "    <tr style=\"text-align: right;\">\n",
       "      <th></th>\n",
       "      <th>GRE Score</th>\n",
       "      <th>CGPA</th>\n",
       "      <th>Serial No.</th>\n",
       "      <th>TOEFL Score</th>\n",
       "      <th>University Rating</th>\n",
       "      <th>SOP</th>\n",
       "      <th>LOR</th>\n",
       "      <th>Research</th>\n",
       "      <th>Chance of Admit</th>\n",
       "    </tr>\n",
       "  </thead>\n",
       "  <tbody>\n",
       "    <tr>\n",
       "      <th>28</th>\n",
       "      <td>338</td>\n",
       "      <td>9.40</td>\n",
       "      <td>29</td>\n",
       "      <td>118</td>\n",
       "      <td>4</td>\n",
       "      <td>3.0</td>\n",
       "      <td>4.5</td>\n",
       "      <td>1</td>\n",
       "      <td>0.91</td>\n",
       "    </tr>\n",
       "    <tr>\n",
       "      <th>62</th>\n",
       "      <td>327</td>\n",
       "      <td>9.02</td>\n",
       "      <td>63</td>\n",
       "      <td>114</td>\n",
       "      <td>3</td>\n",
       "      <td>3.0</td>\n",
       "      <td>3.0</td>\n",
       "      <td>0</td>\n",
       "      <td>0.61</td>\n",
       "    </tr>\n",
       "    <tr>\n",
       "      <th>140</th>\n",
       "      <td>326</td>\n",
       "      <td>9.11</td>\n",
       "      <td>141</td>\n",
       "      <td>114</td>\n",
       "      <td>3</td>\n",
       "      <td>3.0</td>\n",
       "      <td>3.0</td>\n",
       "      <td>1</td>\n",
       "      <td>0.83</td>\n",
       "    </tr>\n",
       "    <tr>\n",
       "      <th>217</th>\n",
       "      <td>324</td>\n",
       "      <td>9.01</td>\n",
       "      <td>218</td>\n",
       "      <td>111</td>\n",
       "      <td>4</td>\n",
       "      <td>3.0</td>\n",
       "      <td>3.0</td>\n",
       "      <td>1</td>\n",
       "      <td>0.82</td>\n",
       "    </tr>\n",
       "    <tr>\n",
       "      <th>381</th>\n",
       "      <td>325</td>\n",
       "      <td>9.11</td>\n",
       "      <td>382</td>\n",
       "      <td>107</td>\n",
       "      <td>3</td>\n",
       "      <td>3.0</td>\n",
       "      <td>3.5</td>\n",
       "      <td>1</td>\n",
       "      <td>0.84</td>\n",
       "    </tr>\n",
       "  </tbody>\n",
       "</table>\n",
       "</div>"
      ],
      "text/plain": [
       "     GRE Score  CGPA  Serial No.  TOEFL Score  University Rating  SOP  LOR  \\\n",
       "28         338  9.40          29          118                  4  3.0  4.5   \n",
       "62         327  9.02          63          114                  3  3.0  3.0   \n",
       "140        326  9.11         141          114                  3  3.0  3.0   \n",
       "217        324  9.01         218          111                  4  3.0  3.0   \n",
       "381        325  9.11         382          107                  3  3.0  3.5   \n",
       "\n",
       "     Research  Chance of Admit  \n",
       "28          1             0.91  \n",
       "62          0             0.61  \n",
       "140         1             0.83  \n",
       "217         1             0.82  \n",
       "381         1             0.84  "
      ]
     },
     "execution_count": 10,
     "metadata": {},
     "output_type": "execute_result"
    }
   ],
   "source": [
    "# Your code here:\n",
    "admissions.get((admissions.CGPA>9) & (admissions.SOP < 3.5))\n"
   ]
  },
  {
   "cell_type": "code",
   "execution_count": 11,
   "metadata": {},
   "outputs": [
    {
     "data": {
      "text/plain": [
       "0.8019999999999999"
      ]
     },
     "execution_count": 11,
     "metadata": {},
     "output_type": "execute_result"
    }
   ],
   "source": [
    "admissions.get((admissions.CGPA>9) & (admissions.SOP < 3.5))['Chance of Admit'].mean()"
   ]
  },
  {
   "cell_type": "markdown",
   "metadata": {},
   "source": [
    "We would like to create a deciding factor column for each student. We standardize several columns and then pick the most important factor from a lookup table. If the standardized value is above 0.8, the student will be accepted.\n",
    "\n",
    "We will start by creating a standardized column for `CGPA`, `GRE Score` and `LOR`. We will name these columns `CGPA_std`, `GRE_std`, and `LOR_std` respecively.\n",
    "\n",
    "Recall that standardizing a column is done by subtracting the mean of the column from all observations in the column and then dividing each observation in the column by the column's standard deviation.\n",
    "\n",
    "In the cell below, write a standardization function (a function that takes a column as input and returns a standardized column as output). Make sure to use the `numpy` versions of mean and standard deviation."
   ]
  },
  {
   "cell_type": "code",
   "execution_count": 12,
   "metadata": {},
   "outputs": [],
   "source": [
    "def standardize(col):\n",
    "    # This function takes a column from a dataframe and returns a standardized column by subtracting the column's mean\n",
    "    # and dividing by the column's standard deviation.\n",
    "    \n",
    "    # Your code here:\n",
    "    for index in range (len(col)):\n",
    "        col[index]=(col[index]-col.mean())/col.std()\n",
    "        \n",
    "    return col"
   ]
  },
  {
   "cell_type": "markdown",
   "metadata": {},
   "source": [
    "Now create the standardized columns `CGPA_std`, `GRE_std`, and `LOR_std` and add them to the `admissions` dataframe."
   ]
  },
  {
   "cell_type": "code",
   "execution_count": 13,
   "metadata": {
    "scrolled": true
   },
   "outputs": [
    {
     "name": "stderr",
     "output_type": "stream",
     "text": [
      "/home/martin/.local/lib/python3.6/site-packages/ipykernel_launcher.py:7: SettingWithCopyWarning: \n",
      "A value is trying to be set on a copy of a slice from a DataFrame\n",
      "\n",
      "See the caveats in the documentation: http://pandas.pydata.org/pandas-docs/stable/indexing.html#indexing-view-versus-copy\n",
      "  import sys\n"
     ]
    }
   ],
   "source": [
    "# Your code here:\n",
    "admissions['CGPA_std'] = standardize(admissions['CGPA'])\n"
   ]
  },
  {
   "cell_type": "code",
   "execution_count": 14,
   "metadata": {
    "scrolled": true
   },
   "outputs": [
    {
     "data": {
      "text/html": [
       "<div>\n",
       "<style scoped>\n",
       "    .dataframe tbody tr th:only-of-type {\n",
       "        vertical-align: middle;\n",
       "    }\n",
       "\n",
       "    .dataframe tbody tr th {\n",
       "        vertical-align: top;\n",
       "    }\n",
       "\n",
       "    .dataframe thead th {\n",
       "        text-align: right;\n",
       "    }\n",
       "</style>\n",
       "<table border=\"1\" class=\"dataframe\">\n",
       "  <thead>\n",
       "    <tr style=\"text-align: right;\">\n",
       "      <th></th>\n",
       "      <th>GRE Score</th>\n",
       "      <th>CGPA</th>\n",
       "      <th>Serial No.</th>\n",
       "      <th>TOEFL Score</th>\n",
       "      <th>University Rating</th>\n",
       "      <th>SOP</th>\n",
       "      <th>LOR</th>\n",
       "      <th>Research</th>\n",
       "      <th>Chance of Admit</th>\n",
       "      <th>CGPA_std</th>\n",
       "    </tr>\n",
       "  </thead>\n",
       "  <tbody>\n",
       "    <tr>\n",
       "      <th>0</th>\n",
       "      <td>337</td>\n",
       "      <td>1.747900</td>\n",
       "      <td>1</td>\n",
       "      <td>118</td>\n",
       "      <td>4</td>\n",
       "      <td>4.5</td>\n",
       "      <td>4.5</td>\n",
       "      <td>1</td>\n",
       "      <td>0.92</td>\n",
       "      <td>1.747900</td>\n",
       "    </tr>\n",
       "    <tr>\n",
       "      <th>1</th>\n",
       "      <td>316</td>\n",
       "      <td>-0.830711</td>\n",
       "      <td>2</td>\n",
       "      <td>104</td>\n",
       "      <td>3</td>\n",
       "      <td>3.0</td>\n",
       "      <td>3.5</td>\n",
       "      <td>1</td>\n",
       "      <td>0.72</td>\n",
       "      <td>-0.830711</td>\n",
       "    </tr>\n",
       "    <tr>\n",
       "      <th>2</th>\n",
       "      <td>322</td>\n",
       "      <td>0.138030</td>\n",
       "      <td>3</td>\n",
       "      <td>110</td>\n",
       "      <td>3</td>\n",
       "      <td>3.5</td>\n",
       "      <td>2.5</td>\n",
       "      <td>1</td>\n",
       "      <td>0.80</td>\n",
       "      <td>0.138030</td>\n",
       "    </tr>\n",
       "    <tr>\n",
       "      <th>3</th>\n",
       "      <td>314</td>\n",
       "      <td>-0.339860</td>\n",
       "      <td>4</td>\n",
       "      <td>103</td>\n",
       "      <td>2</td>\n",
       "      <td>2.0</td>\n",
       "      <td>3.0</td>\n",
       "      <td>0</td>\n",
       "      <td>0.65</td>\n",
       "      <td>-0.339860</td>\n",
       "    </tr>\n",
       "    <tr>\n",
       "      <th>4</th>\n",
       "      <td>330</td>\n",
       "      <td>0.792482</td>\n",
       "      <td>5</td>\n",
       "      <td>115</td>\n",
       "      <td>5</td>\n",
       "      <td>4.5</td>\n",
       "      <td>3.0</td>\n",
       "      <td>1</td>\n",
       "      <td>0.90</td>\n",
       "      <td>0.792482</td>\n",
       "    </tr>\n",
       "  </tbody>\n",
       "</table>\n",
       "</div>"
      ],
      "text/plain": [
       "   GRE Score      CGPA  Serial No.  TOEFL Score  University Rating  SOP  LOR  \\\n",
       "0        337  1.747900           1          118                  4  4.5  4.5   \n",
       "1        316 -0.830711           2          104                  3  3.0  3.5   \n",
       "2        322  0.138030           3          110                  3  3.5  2.5   \n",
       "3        314 -0.339860           4          103                  2  2.0  3.0   \n",
       "4        330  0.792482           5          115                  5  4.5  3.0   \n",
       "\n",
       "   Research  Chance of Admit  CGPA_std  \n",
       "0         1             0.92  1.747900  \n",
       "1         1             0.72 -0.830711  \n",
       "2         1             0.80  0.138030  \n",
       "3         0             0.65 -0.339860  \n",
       "4         1             0.90  0.792482  "
      ]
     },
     "execution_count": 14,
     "metadata": {},
     "output_type": "execute_result"
    }
   ],
   "source": [
    "admissions.head()"
   ]
  },
  {
   "cell_type": "code",
   "execution_count": 15,
   "metadata": {},
   "outputs": [
    {
     "name": "stderr",
     "output_type": "stream",
     "text": [
      "/home/martin/.local/lib/python3.6/site-packages/ipykernel_launcher.py:7: SettingWithCopyWarning: \n",
      "A value is trying to be set on a copy of a slice from a DataFrame\n",
      "\n",
      "See the caveats in the documentation: http://pandas.pydata.org/pandas-docs/stable/indexing.html#indexing-view-versus-copy\n",
      "  import sys\n"
     ]
    }
   ],
   "source": [
    "admissions['GRE_std'] = standardize(admissions['GRE Score'])\n",
    "admissions['LOR_std'] = standardize(admissions['LOR'])"
   ]
  },
  {
   "cell_type": "markdown",
   "metadata": {},
   "source": [
    "We will generate the decision choice at random using the code below. Please run the cell."
   ]
  },
  {
   "cell_type": "code",
   "execution_count": 16,
   "metadata": {},
   "outputs": [],
   "source": [
    "# Run this code:\n",
    "\n",
    "from random import choices\n",
    "std_columns = ['CGPA_std', 'GRE_std', 'LOR_std']\n",
    "\n",
    "decision_choice = choices(std_columns, k=admissions.shape[0])"
   ]
  },
  {
   "cell_type": "markdown",
   "metadata": {},
   "source": [
    "Now create the deciding column using the `lookup` function. The lookup column is `decision_choice` found above. Call the column resulting from the lookup function `deciding_column` and add it to the `admissions` dataframe."
   ]
  },
  {
   "cell_type": "code",
   "execution_count": 17,
   "metadata": {},
   "outputs": [
    {
     "data": {
      "text/plain": [
       "array([ 1.19164669e+00, -8.30710955e-01,  0.00000000e+00, -3.39859936e-01,\n",
       "       -4.10452990e-01,  0.00000000e+00,  0.00000000e+00, -1.86539830e+00,\n",
       "        0.00000000e+00,  0.00000000e+00,  4.87227463e-01, -2.31114399e-01,\n",
       "       -8.36785884e-02, -7.44456351e-01,  0.00000000e+00, -2.65470239e-01,\n",
       "        0.00000000e+00,  1.48308499e-01,  0.00000000e+00,  1.45342478e+00,\n",
       "        0.00000000e+00,  0.00000000e+00,  0.00000000e+00, -6.01656198e-01,\n",
       "        0.00000000e+00,  0.00000000e+00,  0.00000000e+00,  0.00000000e+00,\n",
       "        6.18405262e-01,  7.06883138e-01,  0.00000000e+00,  5.41282749e-01,\n",
       "        6.54974528e-01, -3.11746335e-02, -1.44456685e-01,  2.77715329e-01,\n",
       "        7.31398982e-02,  0.00000000e+00,  2.80890461e-01,  0.00000000e+00,\n",
       "        6.32984841e-01,  5.23276041e-01,  0.00000000e+00,  0.00000000e+00,\n",
       "        0.00000000e+00,  0.00000000e+00,  1.05036574e+00,  1.15788844e-01,\n",
       "       -1.48670452e-02,  0.00000000e+00,  1.68771749e-01,  7.09862600e-02,\n",
       "       -2.53618670e-02,  0.00000000e+00,  0.00000000e+00,  2.94275085e-01,\n",
       "        2.32873993e-01,  0.00000000e+00,  2.75630367e-01,  3.77665361e-01,\n",
       "        3.78894752e-01,  5.21057811e-01,  5.56863311e-01,  0.00000000e+00,\n",
       "        6.27212346e-01,  0.00000000e+00,  1.38260777e+00,  1.39049589e+00,\n",
       "        1.39846396e+00,  7.51377080e-01,  0.00000000e+00,  4.53934827e-01,\n",
       "        5.06564368e-01,  3.59757374e-01, -5.26316510e-01,  1.11074794e-01,\n",
       "        0.00000000e+00,  7.53727153e-01,  0.00000000e+00,  0.00000000e+00,\n",
       "        1.10843510e+00,  5.24521159e-01,  4.58915346e-01,  1.64858653e-01,\n",
       "        3.86378929e-01,  3.27503840e-01,  2.57566601e-01,  0.00000000e+00,\n",
       "        3.28709441e-01,  2.70918765e-01,  0.00000000e+00,  1.98025311e-01,\n",
       "        8.21311169e-01,  7.27626909e-01,  8.31590520e-01,  5.20226539e-01,\n",
       "        2.21694541e-01,  0.00000000e+00,  0.00000000e+00,  2.34738603e-01,\n",
       "        1.15753976e+00,  0.00000000e+00,  8.19322654e-01,  0.00000000e+00,\n",
       "        8.76731100e-01,  0.00000000e+00,  6.25782779e-01,  5.39007912e-01,\n",
       "        6.01534698e-01,  0.00000000e+00,  0.00000000e+00,  0.00000000e+00,\n",
       "        0.00000000e+00,  6.03730086e-01,  0.00000000e+00,  0.00000000e+00,\n",
       "        8.73483958e-01,  5.85802961e-01,  6.26468158e-01,  0.00000000e+00,\n",
       "        6.75376931e-01,  0.00000000e+00,  0.00000000e+00,  8.01798896e-01,\n",
       "        1.54316336e+00,  9.80577573e-01,  0.00000000e+00,  1.26583964e+00,\n",
       "        0.00000000e+00,  0.00000000e+00,  5.92587678e-01,  8.31081918e-01,\n",
       "        6.84484221e-01,  3.87398986e-01,  0.00000000e+00,  9.40903478e-01,\n",
       "        1.06757248e+00,  0.00000000e+00,  7.52975472e-01,  1.11473186e-01,\n",
       "        4.13673001e-01,  1.05892513e+00,  6.75660235e-01,  9.74620803e-01,\n",
       "        0.00000000e+00,  0.00000000e+00,  8.18086719e-01,  0.00000000e+00,\n",
       "        0.00000000e+00,  1.55650165e-01,  0.00000000e+00,  6.86740840e-01,\n",
       "        6.30742429e-01, -1.28661387e-01,  5.28735832e-01,  4.71115993e-01,\n",
       "        0.00000000e+00,  9.27043935e-01,  0.00000000e+00,  1.67178053e+00,\n",
       "        7.57089279e-01,  6.44695059e-01,  5.03041875e-01,  7.12055146e-01,\n",
       "        1.40103390e+00,  1.70658169e+00,  1.41946328e+00,  1.12834418e+00,\n",
       "        9.41972802e-01,  1.43826120e+00,  0.00000000e+00,  7.71939493e-01,\n",
       "        5.52845656e-01,  0.00000000e+00,  8.58895055e-01,  8.61908853e-01,\n",
       "        0.00000000e+00,  1.47196724e+00,  0.00000000e+00,  8.82282122e-01,\n",
       "        1.00000000e+00,  0.00000000e+00,  0.00000000e+00,  0.00000000e+00,\n",
       "        1.82105914e+00,  1.00091049e+00,  0.00000000e+00,  0.00000000e+00,\n",
       "        9.09286160e-01,  1.54092586e+00,  9.71184987e-01,  0.00000000e+00,\n",
       "        1.00000000e+00,  1.87181509e+00,  0.00000000e+00,  7.79219040e-01,\n",
       "        8.42984211e-01,  0.00000000e+00,  0.00000000e+00,  1.29582447e+00,\n",
       "        1.15197655e+00,  1.17797969e+00,  1.31363132e+00,  1.35090657e+00,\n",
       "        1.26878822e+00,  1.66334082e+00,  1.67399711e+00,  1.36846419e+00,\n",
       "        1.18340646e+00,  1.00000000e+00,  1.00000000e+00,  1.39496759e+00,\n",
       "        1.00000000e+00,  1.02654448e+00,  9.81450994e-01,  1.09238722e+00,\n",
       "        1.10166096e+00,  1.00000000e+00,  1.00000000e+00,  1.08649743e+00,\n",
       "        1.07695409e+00,  1.00000000e+00,  1.35182297e+00,  1.33919692e+00,\n",
       "        1.79824140e+00,  2.13645057e+00,  1.17017891e+00,  1.00000000e+00,\n",
       "        9.76904628e-01,  1.00000000e+00,  1.26445087e+00,  1.34329831e+00,\n",
       "        1.00000000e+00,  5.41727513e-01,  1.20306879e+00,  1.00000000e+00,\n",
       "        1.33551484e+00,  1.55456051e+00,  5.66664591e-01,  1.00000000e+00,\n",
       "        1.00000000e+00,  1.91153633e+00,  1.00000000e+00,  1.94241490e+00,\n",
       "        1.61786537e+00,  1.00000000e+00,  1.53732896e+00,  1.49131060e+00,\n",
       "        1.00000000e+00,  1.00000000e+00,  1.42440880e+00,  1.42476445e+00,\n",
       "        1.00000000e+00,  1.35827765e+00,  1.00000000e+00,  1.00000000e+00,\n",
       "        1.35282120e+00,  1.00000000e+00,  1.23786590e+00, -1.84592151e-02,\n",
       "        1.00000000e+00,  6.89882220e-01,  1.56497976e+00,  2.10534531e+00,\n",
       "        1.49269440e+00,  1.00000000e+00,  1.78213605e+00,  1.00000000e+00,\n",
       "        1.00000000e+00,  1.00000000e+00,  1.00000000e+00,  1.00000000e+00,\n",
       "        1.75316164e+00,  1.00000000e+00,  1.00000000e+00,  1.00000000e+00,\n",
       "        1.72758716e+00,  1.17341378e+00,  1.42296291e+00,  1.00000000e+00,\n",
       "        1.00000000e+00,  1.00000000e+00,  1.00000000e+00,  1.00000000e+00,\n",
       "        2.33157374e+00,  1.89437443e+00,  1.73446812e+00,  1.00000000e+00,\n",
       "        1.78938105e+00,  1.00000000e+00,  1.75112673e+00,  4.89738266e-01,\n",
       "        1.00000000e+00,  1.95552009e+00,  1.94040809e+00,  1.28986248e+00,\n",
       "        1.29614174e+00,  1.00000000e+00,  2.09698547e+00,  1.00000000e+00,\n",
       "        1.33532791e+00,  1.75123747e+00,  1.69691344e+00,  1.00000000e+00,\n",
       "        5.55662667e-01,  2.00000000e+00,  1.76684360e+00,  2.18009347e+00,\n",
       "        2.19608218e+00,  1.00000000e+00,  9.94931910e-01,  2.24319798e+00,\n",
       "        5.98274627e-01,  6.01307999e-01,  2.00000000e+00,  1.89354379e+00,\n",
       "        1.43650345e+00,  2.00376157e+00,  1.03376909e+00,  2.18132509e+00,\n",
       "        2.29246911e+00,  1.05612136e+00,  3.15308926e+00,  2.34275100e+00,\n",
       "        2.00000000e+00,  1.52326059e+00,  1.95999491e+00,  2.24927455e+00,\n",
       "        1.98148097e+00,  2.00000000e+00,  2.00597683e+00,  2.10039110e+00,\n",
       "       -1.68157562e-01,  7.02523535e-01,  2.30275009e+00,  2.00000000e+00,\n",
       "        2.46752152e+00,  2.04647430e+00,  1.17493149e+00,  1.62318113e+00,\n",
       "        2.07613121e+00,  2.00000000e+00,  2.00000000e+00,  7.64694936e-01,\n",
       "        2.00000000e+00,  3.48072946e+00,  3.24363274e+00,  3.16270098e+00,\n",
       "        2.83567567e+00,  3.00000000e+00,  3.27003638e+00,  2.95108091e+00,\n",
       "        1.30464663e+00,  8.35827016e-01,  3.00000000e+00,  1.32220850e+00,\n",
       "        3.55479652e+00,  3.00000000e+00,  3.35985661e+00,  3.00000000e+00,\n",
       "        3.01916708e+00,  2.94377569e+00,  3.00000000e+00,  3.00000000e+00,\n",
       "        1.87163093e+00,  3.86749764e+00,  2.39151291e+00,  4.00000000e+00,\n",
       "        2.42619304e+00,  3.95046954e+00,  3.99095169e+00,  3.89709165e+00,\n",
       "        5.00000000e+00,  3.95281408e+00,  3.05054056e+00,  1.50731976e+00,\n",
       "        2.03747104e+00,  5.21831839e+00,  7.00000000e+00,  5.59857071e+00,\n",
       "        8.00000000e+00,  2.63887218e+00,  6.31869762e+00,  1.30000000e+01,\n",
       "        1.90000000e+01])"
      ]
     },
     "execution_count": 17,
     "metadata": {},
     "output_type": "execute_result"
    }
   ],
   "source": [
    "# Your code here:\n",
    "deciding_column = admissions.lookup(admissions.index,decision_choice)\n",
    "admissions['deciding_column'] = deciding_column\n",
    "deciding_column"
   ]
  },
  {
   "cell_type": "markdown",
   "metadata": {},
   "source": [
    "Create a column called `decision` in the `admissions` dataframe. Assign 1 to this column if the value of `deciding_column` is greater than 0.8 and 0 otherwise."
   ]
  },
  {
   "cell_type": "code",
   "execution_count": 18,
   "metadata": {},
   "outputs": [],
   "source": [
    "# Your code here:\n",
    "admissions['decision'] = np.where(admissions['deciding_column'] > 0.8,1,0)"
   ]
  },
  {
   "cell_type": "markdown",
   "metadata": {},
   "source": [
    "How many applicants will be accepted to the program using the decision column? Compute the result below."
   ]
  },
  {
   "cell_type": "code",
   "execution_count": 22,
   "metadata": {},
   "outputs": [
    {
     "data": {
      "text/plain": [
       "219"
      ]
     },
     "execution_count": 22,
     "metadata": {},
     "output_type": "execute_result"
    }
   ],
   "source": [
    "# Your code here:\n",
    "admissions['decision'].sum()\n"
   ]
  },
  {
   "cell_type": "markdown",
   "metadata": {},
   "source": [
    "# Challenge 3 - Method Chaining\n",
    "\n",
    "To increase our coding efficiency, let's make a number of changes to our dataframe in one line of code.\n",
    "\n",
    "In the cell below, remove all non character symbols from the column names, replace all spaces in column names to underscores, and change all upper case characters to lower case. Assign these new column values to `admissions.columns`."
   ]
  },
  {
   "cell_type": "code",
   "execution_count": 34,
   "metadata": {},
   "outputs": [
    {
     "name": "stdout",
     "output_type": "stream",
     "text": [
      "Index(['gre_score', 'cgpa', 'serial_no.', 'toefl_score', 'university_rating',\n",
      "       'sop', 'lor', 'research', 'chance_of_admit', 'cgpa_std', 'gre_std',\n",
      "       'lor_std', 'deciding_column', 'decision'],\n",
      "      dtype='object')\n"
     ]
    },
    {
     "data": {
      "text/plain": [
       "Index(['gre_score', 'cgpa', 'serial_no', 'toefl_score', 'university_rating',\n",
       "       'sop', 'lor', 'research', 'chance_of_admit', 'cgpa_std', 'gre_std',\n",
       "       'lor_std', 'deciding_column', 'decision'],\n",
       "      dtype='object')"
      ]
     },
     "execution_count": 34,
     "metadata": {},
     "output_type": "execute_result"
    }
   ],
   "source": [
    "# Your code here:\n",
    "print(admissions.columns)\n",
    "admissions.columns = admissions.columns.str.replace('\\W',\"\").str.lower().str.replace(\" \",\"_\")\n",
    "admissions.columns\n"
   ]
  },
  {
   "cell_type": "markdown",
   "metadata": {},
   "source": [
    "In the cell below, give all student with a university rating of 4 or higher a 10 point boost on their GRE score and split the column into 4 bins using the `cut` function. Assign this new score to the variable `adjusted_gre`."
   ]
  },
  {
   "cell_type": "code",
   "execution_count": 37,
   "metadata": {},
   "outputs": [
    {
     "data": {
      "text/plain": [
       "0      (-0.019, 4.75]\n",
       "1      (-0.019, 4.75]\n",
       "2      (-0.019, 4.75]\n",
       "3      (-0.019, 4.75]\n",
       "4      (-0.019, 4.75]\n",
       "5      (-0.019, 4.75]\n",
       "6      (-0.019, 4.75]\n",
       "7      (-0.019, 4.75]\n",
       "8      (-0.019, 4.75]\n",
       "9      (-0.019, 4.75]\n",
       "10     (-0.019, 4.75]\n",
       "11     (-0.019, 4.75]\n",
       "12     (-0.019, 4.75]\n",
       "13     (-0.019, 4.75]\n",
       "14     (-0.019, 4.75]\n",
       "15     (-0.019, 4.75]\n",
       "16     (-0.019, 4.75]\n",
       "17     (-0.019, 4.75]\n",
       "18     (-0.019, 4.75]\n",
       "19     (-0.019, 4.75]\n",
       "20     (-0.019, 4.75]\n",
       "21     (-0.019, 4.75]\n",
       "22     (-0.019, 4.75]\n",
       "23     (-0.019, 4.75]\n",
       "24     (-0.019, 4.75]\n",
       "25     (-0.019, 4.75]\n",
       "26     (-0.019, 4.75]\n",
       "27     (-0.019, 4.75]\n",
       "28     (-0.019, 4.75]\n",
       "29     (-0.019, 4.75]\n",
       "            ...      \n",
       "355    (-0.019, 4.75]\n",
       "356    (-0.019, 4.75]\n",
       "357    (-0.019, 4.75]\n",
       "358    (-0.019, 4.75]\n",
       "359    (-0.019, 4.75]\n",
       "360    (-0.019, 4.75]\n",
       "361    (-0.019, 4.75]\n",
       "362    (-0.019, 4.75]\n",
       "363    (-0.019, 4.75]\n",
       "364    (-0.019, 4.75]\n",
       "365    (-0.019, 4.75]\n",
       "366    (-0.019, 4.75]\n",
       "367    (-0.019, 4.75]\n",
       "368    (-0.019, 4.75]\n",
       "369       (4.75, 9.5]\n",
       "370       (4.75, 9.5]\n",
       "371    (-0.019, 4.75]\n",
       "372       (4.75, 9.5]\n",
       "373       (4.75, 9.5]\n",
       "374       (4.75, 9.5]\n",
       "375       (4.75, 9.5]\n",
       "376       (4.75, 9.5]\n",
       "377       (4.75, 9.5]\n",
       "378       (4.75, 9.5]\n",
       "379       (4.75, 9.5]\n",
       "380       (4.75, 9.5]\n",
       "381       (4.75, 9.5]\n",
       "382      (9.5, 14.25]\n",
       "383      (9.5, 14.25]\n",
       "384     (14.25, 19.0]\n",
       "Name: gre_score, Length: 385, dtype: category\n",
       "Categories (4, interval[float64]): [(-0.019, 4.75] < (4.75, 9.5] < (9.5, 14.25] < (14.25, 19.0]]"
      ]
     },
     "execution_count": 37,
     "metadata": {},
     "output_type": "execute_result"
    }
   ],
   "source": [
    "# Your code here:\n",
    "adjusted_gre = pd.cut(admissions['gre_score'], bins = 4)\n",
    "adjusted_gre\n"
   ]
  },
  {
   "cell_type": "code",
   "execution_count": null,
   "metadata": {},
   "outputs": [],
   "source": []
  }
 ],
 "metadata": {
  "kernelspec": {
   "display_name": "Python 3",
   "language": "python",
   "name": "python3"
  },
  "language_info": {
   "codemirror_mode": {
    "name": "ipython",
    "version": 3
   },
   "file_extension": ".py",
   "mimetype": "text/x-python",
   "name": "python",
   "nbconvert_exporter": "python",
   "pygments_lexer": "ipython3",
   "version": "3.6.8"
  },
  "latex_envs": {
   "LaTeX_envs_menu_present": true,
   "autoclose": false,
   "autocomplete": true,
   "bibliofile": "biblio.bib",
   "cite_by": "apalike",
   "current_citInitial": 1,
   "eqLabelWithNumbers": true,
   "eqNumInitial": 1,
   "hotkeys": {
    "equation": "Ctrl-E",
    "itemize": "Ctrl-I"
   },
   "labels_anchors": false,
   "latex_user_defs": false,
   "report_style_numbering": false,
   "user_envs_cfg": false
  },
  "toc": {
   "base_numbering": 1,
   "nav_menu": {},
   "number_sections": true,
   "sideBar": true,
   "skip_h1_title": false,
   "title_cell": "Table of Contents",
   "title_sidebar": "Contents",
   "toc_cell": true,
   "toc_position": {},
   "toc_section_display": true,
   "toc_window_display": false
  },
  "varInspector": {
   "cols": {
    "lenName": 16,
    "lenType": 16,
    "lenVar": 40
   },
   "kernels_config": {
    "python": {
     "delete_cmd_postfix": "",
     "delete_cmd_prefix": "del ",
     "library": "var_list.py",
     "varRefreshCmd": "print(var_dic_list())"
    },
    "r": {
     "delete_cmd_postfix": ") ",
     "delete_cmd_prefix": "rm(",
     "library": "var_list.r",
     "varRefreshCmd": "cat(var_dic_list()) "
    }
   },
   "types_to_exclude": [
    "module",
    "function",
    "builtin_function_or_method",
    "instance",
    "_Feature"
   ],
   "window_display": false
  }
 },
 "nbformat": 4,
 "nbformat_minor": 2
}
